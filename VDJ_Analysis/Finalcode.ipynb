{
 "cells": [
  {
   "cell_type": "code",
   "execution_count": 3,
   "metadata": {},
   "outputs": [],
   "source": [
    "import pandas as pd\n",
    "import numpy as np\n",
    "df = pd.read_csv(r'/Users/andrewssf/Documents/VDJ_Analysis/data/S10_filtered_contig_annotations.csv')"
   ]
  },
  {
   "cell_type": "code",
   "execution_count": 4,
   "metadata": {},
   "outputs": [
    {
     "name": "stdout",
     "output_type": "stream",
     "text": [
      "<class 'pandas.core.frame.DataFrame'>\n",
      "RangeIndex: 8220 entries, 0 to 8219\n",
      "Data columns (total 18 columns):\n",
      "barcode             8220 non-null object\n",
      "is_cell             8220 non-null bool\n",
      "contig_id           8220 non-null object\n",
      "high_confidence     8220 non-null bool\n",
      "length              8220 non-null int64\n",
      "chain               8220 non-null object\n",
      "v_gene              8220 non-null object\n",
      "d_gene              8220 non-null object\n",
      "j_gene              8220 non-null object\n",
      "c_gene              8220 non-null object\n",
      "full_length         8220 non-null bool\n",
      "productive          8220 non-null object\n",
      "cdr3                8220 non-null object\n",
      "cdr3_nt             8220 non-null object\n",
      "reads               8220 non-null int64\n",
      "umis                8220 non-null int64\n",
      "raw_clonotype_id    8220 non-null object\n",
      "raw_consensus_id    8220 non-null object\n",
      "dtypes: bool(3), int64(3), object(12)\n",
      "memory usage: 987.4+ KB\n"
     ]
    }
   ],
   "source": [
    "# basic info#\n",
    "df.info()"
   ]
  },
  {
   "cell_type": "code",
   "execution_count": 5,
   "metadata": {},
   "outputs": [
    {
     "data": {
      "text/plain": [
       "barcode                0\n",
       "is_cell                0\n",
       "contig_id              0\n",
       "high_confidence        0\n",
       "length                 0\n",
       "chain                  6\n",
       "v_gene              1470\n",
       "d_gene              5051\n",
       "j_gene              1016\n",
       "c_gene                26\n",
       "full_length            0\n",
       "productive          1886\n",
       "cdr3                1826\n",
       "cdr3_nt             1826\n",
       "reads                  0\n",
       "umis                   0\n",
       "raw_clonotype_id       2\n",
       "raw_consensus_id    1906\n",
       "dtype: int64"
      ]
     },
     "execution_count": 5,
     "metadata": {},
     "output_type": "execute_result"
    }
   ],
   "source": [
    "#change none to nan and check how many null bojects and where#\n",
    "df.replace('None', np.nan, inplace=True)\n",
    "#to count number of NaN in columns#\n",
    "len(df) - df.count()"
   ]
  },
  {
   "cell_type": "code",
   "execution_count": 7,
   "metadata": {},
   "outputs": [],
   "source": [
    "import sys\n",
    "sys.path.insert(0, 'Users/andrewssf/Documents/VDJ_Analysis/modules')\n",
    "from modules import clearnulls\n",
    "\n",
    "df_cdr3null = clearnulls.clearnulls(df, 'cdr3')"
   ]
  },
  {
   "cell_type": "code",
   "execution_count": 31,
   "metadata": {},
   "outputs": [
    {
     "data": {
      "text/plain": [
       "True"
      ]
     },
     "execution_count": 31,
     "metadata": {},
     "output_type": "execute_result"
    }
   ],
   "source": [
    "#to check if cdr3 null is gone#\n",
    "len(df_cdr3null.cdr3) == df_cdr3null['cdr3'].count()"
   ]
  },
  {
   "cell_type": "code",
   "execution_count": 8,
   "metadata": {},
   "outputs": [],
   "source": [
    "#to check if cdr3 null is gone#\n",
    "assert len(df_cdr3null.cdr3) == df_cdr3null['cdr3'].count()"
   ]
  },
  {
   "cell_type": "code",
   "execution_count": 11,
   "metadata": {},
   "outputs": [
    {
     "data": {
      "text/plain": [
       "(6378, 18)"
      ]
     },
     "execution_count": 11,
     "metadata": {},
     "output_type": "execute_result"
    }
   ],
   "source": [
    "#to drop cells with unproductive chains#\n",
    "nonproductive = df_cdr3null[df_cdr3null['productive'] == 'FALSE'].index\n",
    "df_prod = df_cdr3null.drop(nonproductive)\n",
    "df_prod.shape"
   ]
  },
  {
   "cell_type": "code",
   "execution_count": 12,
   "metadata": {},
   "outputs": [
    {
     "data": {
      "text/plain": [
       "(6187, 18)"
      ]
     },
     "execution_count": 12,
     "metadata": {},
     "output_type": "execute_result"
    }
   ],
   "source": [
    "#to drop cells with duplicate chains#\n",
    "df_no_dupl = df_prod.drop_duplicates(['barcode', 'chain'])\n",
    "df_no_dupl.shape"
   ]
  },
  {
   "cell_type": "code",
   "execution_count": 13,
   "metadata": {},
   "outputs": [
    {
     "data": {
      "text/plain": [
       "IGH      2981\n",
       "IGL      1706\n",
       "IGK      1484\n",
       "Multi      16\n",
       "Name: chain, dtype: int64"
      ]
     },
     "execution_count": 13,
     "metadata": {},
     "output_type": "execute_result"
    }
   ],
   "source": [
    "#check which chains are listed#\n",
    "df_no_dupl.chain.value_counts()"
   ]
  },
  {
   "cell_type": "code",
   "execution_count": 14,
   "metadata": {},
   "outputs": [
    {
     "data": {
      "text/plain": [
       "IGH    2981\n",
       "IGL    1706\n",
       "IGK    1484\n",
       "Name: chain, dtype: int64"
      ]
     },
     "execution_count": 14,
     "metadata": {},
     "output_type": "execute_result"
    }
   ],
   "source": [
    "#limit list to only IGH, IGK, IGL#\n",
    "good_list = ['IGH', 'IGK', 'IGL']\n",
    "df_good = df_no_dupl[df_no_dupl['chain'].isin(good_list)].copy()\n",
    "df_good.chain.value_counts()"
   ]
  },
  {
   "cell_type": "code",
   "execution_count": 15,
   "metadata": {},
   "outputs": [
    {
     "data": {
      "text/plain": [
       "IGH    2981\n",
       "IGL    1660\n",
       "IGK    1432\n",
       "Name: chain, dtype: int64"
      ]
     },
     "execution_count": 15,
     "metadata": {},
     "output_type": "execute_result"
    }
   ],
   "source": [
    "#make sure only have cells with HC listed#\n",
    "df_wHC = df_good.groupby('barcode').filter(lambda x: any(x.chain == \"IGH\")).copy()\n",
    "df_wHC.chain.value_counts()"
   ]
  },
  {
   "cell_type": "code",
   "execution_count": 17,
   "metadata": {},
   "outputs": [
    {
     "data": {
      "text/plain": [
       "<matplotlib.axes._subplots.AxesSubplot at 0x7fc1c8786320>"
      ]
     },
     "execution_count": 17,
     "metadata": {},
     "output_type": "execute_result"
    },
    {
     "data": {
      "image/png": "[encoded data removed]",
      "text/plain": [
       "<Figure size 432x288 with 1 Axes>"
      ]
     },
     "metadata": {
      "needs_background": "light"
     },
     "output_type": "display_data"
    }
   ],
   "source": [
    "import matplotlib.pyplot as plt\n",
    "df_wHC['umis'].plot('hist', bins=20, range=(1,10000))"
   ]
  },
  {
   "cell_type": "code",
   "execution_count": 18,
   "metadata": {},
   "outputs": [
    {
     "data": {
      "text/plain": [
       "<matplotlib.axes._subplots.AxesSubplot at 0x7fc1c8905978>"
      ]
     },
     "execution_count": 18,
     "metadata": {},
     "output_type": "execute_result"
    },
    {
     "data": {
      "image/png": "[encoded data removed]",
      "text/plain": [
       "<Figure size 432x288 with 1 Axes>"
      ]
     },
     "metadata": {
      "needs_background": "light"
     },
     "output_type": "display_data"
    }
   ],
   "source": [
    "#visiually inspect sequence length to check quality#\n",
    "df_wHC.boxplot(column='length', by='chain')"
   ]
  },
  {
   "cell_type": "code",
   "execution_count": 30,
   "metadata": {},
   "outputs": [
    {
     "data": {
      "text/plain": [
       "Index(['barcode', 'is_cell', 'contig_id', 'high_confidence', 'length', 'chain',\n",
       "       'v_gene', 'd_gene', 'j_gene', 'c_gene', 'full_length', 'productive',\n",
       "       'cdr3', 'cdr3_nt', 'reads', 'umis', 'raw_clonotype_id',\n",
       "       'raw_consensus_id', 'cdr3_length'],\n",
       "      dtype='object')"
      ]
     },
     "execution_count": 30,
     "metadata": {},
     "output_type": "execute_result"
    }
   ],
   "source": [
    "# to add column with CDR3 length#\n",
    "df_wHC['cdr3_length'] = df_wHC['cdr3'].str.len()\n",
    "df_wHC.columns"
   ]
  },
  {
   "cell_type": "code",
   "execution_count": 20,
   "metadata": {},
   "outputs": [
    {
     "data": {
      "text/plain": [
       "IGH    2870\n",
       "IGL    1549\n",
       "IGK    1321\n",
       "Name: chain, dtype: int64"
      ]
     },
     "execution_count": 20,
     "metadata": {},
     "output_type": "execute_result"
    }
   ],
   "source": [
    "#to filter on pairs#\n",
    "df_pair = df_wHC.groupby('barcode').filter(lambda x: x['chain'].count()<3)\n",
    "df_pair.chain.value_counts()"
   ]
  },
  {
   "cell_type": "code",
   "execution_count": 21,
   "metadata": {},
   "outputs": [
    {
     "data": {
      "text/plain": [
       "chain  v_gene    \n",
       "IGH    IGHV1-69-2    1813\n",
       "       IGHV3-11       772\n",
       "       IGHV4-4         68\n",
       "       IGHV3-48        50\n",
       "       IGHV4-39        49\n",
       "dtype: int64"
      ]
     },
     "execution_count": 21,
     "metadata": {},
     "output_type": "execute_result"
    }
   ],
   "source": [
    "#to count v_gene d_gene j_gene c_gene usage concat into one file for output#\n",
    "df_vgene = df_pair.groupby('chain')['v_gene'].value_counts()\n",
    "df_dgene = df_pair.groupby('chain')['d_gene'].value_counts()\n",
    "df_jgene = df_pair.groupby('chain')['j_gene'].value_counts()\n",
    "df_cgene = df_pair.groupby('chain')['c_gene'].value_counts()\n",
    "df_gene = pd.concat([df_vgene, df_dgene, df_jgene, df_cgene], axis=0)\n",
    "df_gene.head()"
   ]
  },
  {
   "cell_type": "code",
   "execution_count": 22,
   "metadata": {},
   "outputs": [
    {
     "data": {
      "image/png": "[encoded data removed]",
      "text/plain": [
       "<Figure size 432x288 with 3 Axes>"
      ]
     },
     "metadata": {
      "needs_background": "light"
     },
     "output_type": "display_data"
    }
   ],
   "source": [
    "#visual of vgene usage#\n",
    "f, a = plt.subplots(3,1)\n",
    "df_vgene.xs('IGH').plot(kind='bar', ax=a[0])\n",
    "df_vgene.xs('IGK').plot(kind='bar', ax=a[1])\n",
    "df_vgene.xs('IGL').plot(kind='bar', ax=a[2])\n",
    "plt.tight_layout(rect=[0,0,1.5,2])"
   ]
  },
  {
   "cell_type": "code",
   "execution_count": 23,
   "metadata": {},
   "outputs": [],
   "source": [
    "#to export out gene usage#\n",
    "import time\n",
    "t = time.localtime()\n",
    "timestamp = time.strftime('%m%d_%H%M', t)\n",
    "df_gene.to_csv(r'/Users/andrewssf/Documents/VDJ_Analysis/results/S10genes_' + timestamp + '.csv', header = ('count'))"
   ]
  },
  {
   "cell_type": "code",
   "execution_count": 24,
   "metadata": {},
   "outputs": [
    {
     "data": {
      "text/html": [
       "<div>\n",
       "<style scoped>\n",
       "    .dataframe tbody tr th:only-of-type {\n",
       "        vertical-align: middle;\n",
       "    }\n",
       "\n",
       "    .dataframe tbody tr th {\n",
       "        vertical-align: top;\n",
       "    }\n",
       "\n",
       "    .dataframe thead th {\n",
       "        text-align: right;\n",
       "    }\n",
       "</style>\n",
       "<table border=\"1\" class=\"dataframe\">\n",
       "  <thead>\n",
       "    <tr style=\"text-align: right;\">\n",
       "      <th></th>\n",
       "      <th></th>\n",
       "      <th>is_cell</th>\n",
       "      <th>contig_id</th>\n",
       "      <th>high_confidence</th>\n",
       "      <th>length</th>\n",
       "      <th>v_gene</th>\n",
       "      <th>d_gene</th>\n",
       "      <th>j_gene</th>\n",
       "      <th>c_gene</th>\n",
       "      <th>full_length</th>\n",
       "      <th>productive</th>\n",
       "      <th>cdr3</th>\n",
       "      <th>cdr3_nt</th>\n",
       "      <th>reads</th>\n",
       "      <th>umis</th>\n",
       "      <th>raw_clonotype_id</th>\n",
       "      <th>raw_consensus_id</th>\n",
       "      <th>cdr3_length</th>\n",
       "    </tr>\n",
       "    <tr>\n",
       "      <th>barcode</th>\n",
       "      <th>chain</th>\n",
       "      <th></th>\n",
       "      <th></th>\n",
       "      <th></th>\n",
       "      <th></th>\n",
       "      <th></th>\n",
       "      <th></th>\n",
       "      <th></th>\n",
       "      <th></th>\n",
       "      <th></th>\n",
       "      <th></th>\n",
       "      <th></th>\n",
       "      <th></th>\n",
       "      <th></th>\n",
       "      <th></th>\n",
       "      <th></th>\n",
       "      <th></th>\n",
       "      <th></th>\n",
       "    </tr>\n",
       "  </thead>\n",
       "  <tbody>\n",
       "    <tr>\n",
       "      <th rowspan=\"2\" valign=\"top\">AAACCTGAGAATAGGG-1</th>\n",
       "      <th>IGH</th>\n",
       "      <td>True</td>\n",
       "      <td>AAACCTGAGAATAGGG-1_contig_3</td>\n",
       "      <td>True</td>\n",
       "      <td>816</td>\n",
       "      <td>IGHV3-11</td>\n",
       "      <td>IGHD3-3</td>\n",
       "      <td>IGHJ2</td>\n",
       "      <td>IGHG1</td>\n",
       "      <td>True</td>\n",
       "      <td>TRUE</td>\n",
       "      <td>CARGATIFGVVMWHFDLW</td>\n",
       "      <td>TGTGCGAGAGGGGCTACGATTTTTGGAGTGGTTATGTGGCACTTCG...</td>\n",
       "      <td>8202</td>\n",
       "      <td>1997</td>\n",
       "      <td>clonotype18</td>\n",
       "      <td>clonotype18_consensus_2</td>\n",
       "      <td>18</td>\n",
       "    </tr>\n",
       "    <tr>\n",
       "      <th>IGL</th>\n",
       "      <td>True</td>\n",
       "      <td>AAACCTGAGAATAGGG-1_contig_1</td>\n",
       "      <td>True</td>\n",
       "      <td>694</td>\n",
       "      <td>IGLV2-11</td>\n",
       "      <td>NaN</td>\n",
       "      <td>IGLJ2</td>\n",
       "      <td>IGLC2</td>\n",
       "      <td>True</td>\n",
       "      <td>TRUE</td>\n",
       "      <td>CFSYAGSNNVIF</td>\n",
       "      <td>TGCTTCTCATATGCAGGCAGCAACAATGTGATATTC</td>\n",
       "      <td>11700</td>\n",
       "      <td>3239</td>\n",
       "      <td>clonotype18</td>\n",
       "      <td>clonotype18_consensus_1</td>\n",
       "      <td>12</td>\n",
       "    </tr>\n",
       "    <tr>\n",
       "      <th rowspan=\"3\" valign=\"top\">AAACCTGAGCCCTAAT-1</th>\n",
       "      <th>IGH</th>\n",
       "      <td>True</td>\n",
       "      <td>AAACCTGAGCCCTAAT-1_contig_7</td>\n",
       "      <td>True</td>\n",
       "      <td>671</td>\n",
       "      <td>IGHV3-11</td>\n",
       "      <td>IGHD3OR15-3A</td>\n",
       "      <td>IGHJ2</td>\n",
       "      <td>IGHA1</td>\n",
       "      <td>True</td>\n",
       "      <td>TRUE</td>\n",
       "      <td>CVRGATIFGLVKWHFDLW</td>\n",
       "      <td>TGTGTGCGAGGGGCAACGATCTTTGGCCTAGTTAAGTGGCACTTCG...</td>\n",
       "      <td>995</td>\n",
       "      <td>152</td>\n",
       "      <td>clonotype187</td>\n",
       "      <td>clonotype187_consensus_5</td>\n",
       "      <td>18</td>\n",
       "    </tr>\n",
       "    <tr>\n",
       "      <th>IGK</th>\n",
       "      <td>True</td>\n",
       "      <td>AAACCTGAGCCCTAAT-1_contig_9</td>\n",
       "      <td>True</td>\n",
       "      <td>848</td>\n",
       "      <td>IGKV3-20</td>\n",
       "      <td>NaN</td>\n",
       "      <td>IGKJ2</td>\n",
       "      <td>IGKC</td>\n",
       "      <td>True</td>\n",
       "      <td>TRUE</td>\n",
       "      <td>CQHYGNSLHF</td>\n",
       "      <td>TGTCAGCACTACGGTAACTCACTTCACTTT</td>\n",
       "      <td>7163</td>\n",
       "      <td>1099</td>\n",
       "      <td>clonotype187</td>\n",
       "      <td>clonotype187_consensus_2</td>\n",
       "      <td>10</td>\n",
       "    </tr>\n",
       "    <tr>\n",
       "      <th>IGL</th>\n",
       "      <td>True</td>\n",
       "      <td>AAACCTGAGCCCTAAT-1_contig_1</td>\n",
       "      <td>True</td>\n",
       "      <td>663</td>\n",
       "      <td>IGLV2-11</td>\n",
       "      <td>NaN</td>\n",
       "      <td>IGLJ2</td>\n",
       "      <td>IGLC2</td>\n",
       "      <td>True</td>\n",
       "      <td>TRUE</td>\n",
       "      <td>CFSYAGNNNVIF</td>\n",
       "      <td>TGCTTCTCATATGCAGGCAACAACAATGTGATATTC</td>\n",
       "      <td>1642</td>\n",
       "      <td>425</td>\n",
       "      <td>clonotype187</td>\n",
       "      <td>clonotype187_consensus_3</td>\n",
       "      <td>12</td>\n",
       "    </tr>\n",
       "  </tbody>\n",
       "</table>\n",
       "</div>"
      ],
      "text/plain": [
       "                          is_cell                    contig_id  \\\n",
       "barcode            chain                                         \n",
       "AAACCTGAGAATAGGG-1 IGH       True  AAACCTGAGAATAGGG-1_contig_3   \n",
       "                   IGL       True  AAACCTGAGAATAGGG-1_contig_1   \n",
       "AAACCTGAGCCCTAAT-1 IGH       True  AAACCTGAGCCCTAAT-1_contig_7   \n",
       "                   IGK       True  AAACCTGAGCCCTAAT-1_contig_9   \n",
       "                   IGL       True  AAACCTGAGCCCTAAT-1_contig_1   \n",
       "\n",
       "                          high_confidence  length    v_gene        d_gene  \\\n",
       "barcode            chain                                                    \n",
       "AAACCTGAGAATAGGG-1 IGH               True     816  IGHV3-11       IGHD3-3   \n",
       "                   IGL               True     694  IGLV2-11           NaN   \n",
       "AAACCTGAGCCCTAAT-1 IGH               True     671  IGHV3-11  IGHD3OR15-3A   \n",
       "                   IGK               True     848  IGKV3-20           NaN   \n",
       "                   IGL               True     663  IGLV2-11           NaN   \n",
       "\n",
       "                         j_gene c_gene  full_length productive  \\\n",
       "barcode            chain                                         \n",
       "AAACCTGAGAATAGGG-1 IGH    IGHJ2  IGHG1         True       TRUE   \n",
       "                   IGL    IGLJ2  IGLC2         True       TRUE   \n",
       "AAACCTGAGCCCTAAT-1 IGH    IGHJ2  IGHA1         True       TRUE   \n",
       "                   IGK    IGKJ2   IGKC         True       TRUE   \n",
       "                   IGL    IGLJ2  IGLC2         True       TRUE   \n",
       "\n",
       "                                        cdr3  \\\n",
       "barcode            chain                       \n",
       "AAACCTGAGAATAGGG-1 IGH    CARGATIFGVVMWHFDLW   \n",
       "                   IGL          CFSYAGSNNVIF   \n",
       "AAACCTGAGCCCTAAT-1 IGH    CVRGATIFGLVKWHFDLW   \n",
       "                   IGK            CQHYGNSLHF   \n",
       "                   IGL          CFSYAGNNNVIF   \n",
       "\n",
       "                                                                    cdr3_nt  \\\n",
       "barcode            chain                                                      \n",
       "AAACCTGAGAATAGGG-1 IGH    TGTGCGAGAGGGGCTACGATTTTTGGAGTGGTTATGTGGCACTTCG...   \n",
       "                   IGL                 TGCTTCTCATATGCAGGCAGCAACAATGTGATATTC   \n",
       "AAACCTGAGCCCTAAT-1 IGH    TGTGTGCGAGGGGCAACGATCTTTGGCCTAGTTAAGTGGCACTTCG...   \n",
       "                   IGK                       TGTCAGCACTACGGTAACTCACTTCACTTT   \n",
       "                   IGL                 TGCTTCTCATATGCAGGCAACAACAATGTGATATTC   \n",
       "\n",
       "                          reads  umis raw_clonotype_id  \\\n",
       "barcode            chain                                 \n",
       "AAACCTGAGAATAGGG-1 IGH     8202  1997      clonotype18   \n",
       "                   IGL    11700  3239      clonotype18   \n",
       "AAACCTGAGCCCTAAT-1 IGH      995   152     clonotype187   \n",
       "                   IGK     7163  1099     clonotype187   \n",
       "                   IGL     1642   425     clonotype187   \n",
       "\n",
       "                                  raw_consensus_id  cdr3_length  \n",
       "barcode            chain                                         \n",
       "AAACCTGAGAATAGGG-1 IGH     clonotype18_consensus_2           18  \n",
       "                   IGL     clonotype18_consensus_1           12  \n",
       "AAACCTGAGCCCTAAT-1 IGH    clonotype187_consensus_5           18  \n",
       "                   IGK    clonotype187_consensus_2           10  \n",
       "                   IGL    clonotype187_consensus_3           12  "
      ]
     },
     "execution_count": 24,
     "metadata": {},
     "output_type": "execute_result"
    }
   ],
   "source": [
    "# to make multi-idexes#\n",
    "df_MultiI = df_wHC.set_index(['barcode', 'chain']).sort_index()\n",
    "df_MultiI.head()"
   ]
  },
  {
   "cell_type": "code",
   "execution_count": 25,
   "metadata": {},
   "outputs": [
    {
     "data": {
      "text/html": [
       "<div>\n",
       "<style scoped>\n",
       "    .dataframe tbody tr th:only-of-type {\n",
       "        vertical-align: middle;\n",
       "    }\n",
       "\n",
       "    .dataframe tbody tr th {\n",
       "        vertical-align: top;\n",
       "    }\n",
       "\n",
       "    .dataframe thead tr th {\n",
       "        text-align: left;\n",
       "    }\n",
       "\n",
       "    .dataframe thead tr:last-of-type th {\n",
       "        text-align: right;\n",
       "    }\n",
       "</style>\n",
       "<table border=\"1\" class=\"dataframe\">\n",
       "  <thead>\n",
       "    <tr>\n",
       "      <th></th>\n",
       "      <th colspan=\"3\" halign=\"left\">is_cell</th>\n",
       "      <th colspan=\"3\" halign=\"left\">contig_id</th>\n",
       "      <th colspan=\"3\" halign=\"left\">high_confidence</th>\n",
       "      <th>length</th>\n",
       "      <th>...</th>\n",
       "      <th>umis</th>\n",
       "      <th colspan=\"3\" halign=\"left\">raw_clonotype_id</th>\n",
       "      <th colspan=\"3\" halign=\"left\">raw_consensus_id</th>\n",
       "      <th colspan=\"3\" halign=\"left\">cdr3_length</th>\n",
       "    </tr>\n",
       "    <tr>\n",
       "      <th>chain</th>\n",
       "      <th>IGH</th>\n",
       "      <th>IGK</th>\n",
       "      <th>IGL</th>\n",
       "      <th>IGH</th>\n",
       "      <th>IGK</th>\n",
       "      <th>IGL</th>\n",
       "      <th>IGH</th>\n",
       "      <th>IGK</th>\n",
       "      <th>IGL</th>\n",
       "      <th>IGH</th>\n",
       "      <th>...</th>\n",
       "      <th>IGL</th>\n",
       "      <th>IGH</th>\n",
       "      <th>IGK</th>\n",
       "      <th>IGL</th>\n",
       "      <th>IGH</th>\n",
       "      <th>IGK</th>\n",
       "      <th>IGL</th>\n",
       "      <th>IGH</th>\n",
       "      <th>IGK</th>\n",
       "      <th>IGL</th>\n",
       "    </tr>\n",
       "    <tr>\n",
       "      <th>barcode</th>\n",
       "      <th></th>\n",
       "      <th></th>\n",
       "      <th></th>\n",
       "      <th></th>\n",
       "      <th></th>\n",
       "      <th></th>\n",
       "      <th></th>\n",
       "      <th></th>\n",
       "      <th></th>\n",
       "      <th></th>\n",
       "      <th></th>\n",
       "      <th></th>\n",
       "      <th></th>\n",
       "      <th></th>\n",
       "      <th></th>\n",
       "      <th></th>\n",
       "      <th></th>\n",
       "      <th></th>\n",
       "      <th></th>\n",
       "      <th></th>\n",
       "      <th></th>\n",
       "    </tr>\n",
       "  </thead>\n",
       "  <tbody>\n",
       "    <tr>\n",
       "      <th>AAACCTGAGAATAGGG-1</th>\n",
       "      <td>True</td>\n",
       "      <td>NaN</td>\n",
       "      <td>True</td>\n",
       "      <td>AAACCTGAGAATAGGG-1_contig_3</td>\n",
       "      <td>NaN</td>\n",
       "      <td>AAACCTGAGAATAGGG-1_contig_1</td>\n",
       "      <td>True</td>\n",
       "      <td>NaN</td>\n",
       "      <td>True</td>\n",
       "      <td>816.0</td>\n",
       "      <td>...</td>\n",
       "      <td>3239.0</td>\n",
       "      <td>clonotype18</td>\n",
       "      <td>NaN</td>\n",
       "      <td>clonotype18</td>\n",
       "      <td>clonotype18_consensus_2</td>\n",
       "      <td>NaN</td>\n",
       "      <td>clonotype18_consensus_1</td>\n",
       "      <td>18.0</td>\n",
       "      <td>NaN</td>\n",
       "      <td>12.0</td>\n",
       "    </tr>\n",
       "    <tr>\n",
       "      <th>AAACCTGAGCCCTAAT-1</th>\n",
       "      <td>True</td>\n",
       "      <td>True</td>\n",
       "      <td>True</td>\n",
       "      <td>AAACCTGAGCCCTAAT-1_contig_7</td>\n",
       "      <td>AAACCTGAGCCCTAAT-1_contig_9</td>\n",
       "      <td>AAACCTGAGCCCTAAT-1_contig_1</td>\n",
       "      <td>True</td>\n",
       "      <td>True</td>\n",
       "      <td>True</td>\n",
       "      <td>671.0</td>\n",
       "      <td>...</td>\n",
       "      <td>425.0</td>\n",
       "      <td>clonotype187</td>\n",
       "      <td>clonotype187</td>\n",
       "      <td>clonotype187</td>\n",
       "      <td>clonotype187_consensus_5</td>\n",
       "      <td>clonotype187_consensus_2</td>\n",
       "      <td>clonotype187_consensus_3</td>\n",
       "      <td>18.0</td>\n",
       "      <td>10.0</td>\n",
       "      <td>12.0</td>\n",
       "    </tr>\n",
       "    <tr>\n",
       "      <th>AAACCTGAGCTGTTCA-1</th>\n",
       "      <td>True</td>\n",
       "      <td>NaN</td>\n",
       "      <td>True</td>\n",
       "      <td>AAACCTGAGCTGTTCA-1_contig_3</td>\n",
       "      <td>NaN</td>\n",
       "      <td>AAACCTGAGCTGTTCA-1_contig_1</td>\n",
       "      <td>True</td>\n",
       "      <td>NaN</td>\n",
       "      <td>True</td>\n",
       "      <td>768.0</td>\n",
       "      <td>...</td>\n",
       "      <td>5183.0</td>\n",
       "      <td>clonotype53</td>\n",
       "      <td>NaN</td>\n",
       "      <td>clonotype53</td>\n",
       "      <td>clonotype53_consensus_2</td>\n",
       "      <td>NaN</td>\n",
       "      <td>clonotype53_consensus_1</td>\n",
       "      <td>16.0</td>\n",
       "      <td>NaN</td>\n",
       "      <td>10.0</td>\n",
       "    </tr>\n",
       "    <tr>\n",
       "      <th>AAACCTGAGTAGTGCG-1</th>\n",
       "      <td>True</td>\n",
       "      <td>True</td>\n",
       "      <td>NaN</td>\n",
       "      <td>AAACCTGAGTAGTGCG-1_contig_2</td>\n",
       "      <td>AAACCTGAGTAGTGCG-1_contig_1</td>\n",
       "      <td>NaN</td>\n",
       "      <td>True</td>\n",
       "      <td>True</td>\n",
       "      <td>NaN</td>\n",
       "      <td>769.0</td>\n",
       "      <td>...</td>\n",
       "      <td>NaN</td>\n",
       "      <td>clonotype134</td>\n",
       "      <td>clonotype134</td>\n",
       "      <td>NaN</td>\n",
       "      <td>clonotype134_consensus_2</td>\n",
       "      <td>clonotype134_consensus_1</td>\n",
       "      <td>NaN</td>\n",
       "      <td>15.0</td>\n",
       "      <td>10.0</td>\n",
       "      <td>NaN</td>\n",
       "    </tr>\n",
       "    <tr>\n",
       "      <th>AAACCTGAGTGGGCTA-1</th>\n",
       "      <td>True</td>\n",
       "      <td>NaN</td>\n",
       "      <td>True</td>\n",
       "      <td>AAACCTGAGTGGGCTA-1_contig_3</td>\n",
       "      <td>NaN</td>\n",
       "      <td>AAACCTGAGTGGGCTA-1_contig_2</td>\n",
       "      <td>True</td>\n",
       "      <td>NaN</td>\n",
       "      <td>True</td>\n",
       "      <td>812.0</td>\n",
       "      <td>...</td>\n",
       "      <td>2517.0</td>\n",
       "      <td>clonotype1</td>\n",
       "      <td>NaN</td>\n",
       "      <td>clonotype1</td>\n",
       "      <td>clonotype1_consensus_1</td>\n",
       "      <td>NaN</td>\n",
       "      <td>clonotype1_consensus_2</td>\n",
       "      <td>18.0</td>\n",
       "      <td>NaN</td>\n",
       "      <td>12.0</td>\n",
       "    </tr>\n",
       "  </tbody>\n",
       "</table>\n",
       "<p>5 rows × 51 columns</p>\n",
       "</div>"
      ],
      "text/plain": [
       "                   is_cell                                contig_id  \\\n",
       "chain                  IGH   IGK   IGL                          IGH   \n",
       "barcode                                                               \n",
       "AAACCTGAGAATAGGG-1    True   NaN  True  AAACCTGAGAATAGGG-1_contig_3   \n",
       "AAACCTGAGCCCTAAT-1    True  True  True  AAACCTGAGCCCTAAT-1_contig_7   \n",
       "AAACCTGAGCTGTTCA-1    True   NaN  True  AAACCTGAGCTGTTCA-1_contig_3   \n",
       "AAACCTGAGTAGTGCG-1    True  True   NaN  AAACCTGAGTAGTGCG-1_contig_2   \n",
       "AAACCTGAGTGGGCTA-1    True   NaN  True  AAACCTGAGTGGGCTA-1_contig_3   \n",
       "\n",
       "                                                                              \\\n",
       "chain                                       IGK                          IGL   \n",
       "barcode                                                                        \n",
       "AAACCTGAGAATAGGG-1                          NaN  AAACCTGAGAATAGGG-1_contig_1   \n",
       "AAACCTGAGCCCTAAT-1  AAACCTGAGCCCTAAT-1_contig_9  AAACCTGAGCCCTAAT-1_contig_1   \n",
       "AAACCTGAGCTGTTCA-1                          NaN  AAACCTGAGCTGTTCA-1_contig_1   \n",
       "AAACCTGAGTAGTGCG-1  AAACCTGAGTAGTGCG-1_contig_1                          NaN   \n",
       "AAACCTGAGTGGGCTA-1                          NaN  AAACCTGAGTGGGCTA-1_contig_2   \n",
       "\n",
       "                   high_confidence             length  ...    umis  \\\n",
       "chain                          IGH   IGK   IGL    IGH  ...     IGL   \n",
       "barcode                                                ...           \n",
       "AAACCTGAGAATAGGG-1            True   NaN  True  816.0  ...  3239.0   \n",
       "AAACCTGAGCCCTAAT-1            True  True  True  671.0  ...   425.0   \n",
       "AAACCTGAGCTGTTCA-1            True   NaN  True  768.0  ...  5183.0   \n",
       "AAACCTGAGTAGTGCG-1            True  True   NaN  769.0  ...     NaN   \n",
       "AAACCTGAGTGGGCTA-1            True   NaN  True  812.0  ...  2517.0   \n",
       "\n",
       "                   raw_clonotype_id                              \\\n",
       "chain                           IGH           IGK           IGL   \n",
       "barcode                                                           \n",
       "AAACCTGAGAATAGGG-1      clonotype18           NaN   clonotype18   \n",
       "AAACCTGAGCCCTAAT-1     clonotype187  clonotype187  clonotype187   \n",
       "AAACCTGAGCTGTTCA-1      clonotype53           NaN   clonotype53   \n",
       "AAACCTGAGTAGTGCG-1     clonotype134  clonotype134           NaN   \n",
       "AAACCTGAGTGGGCTA-1       clonotype1           NaN    clonotype1   \n",
       "\n",
       "                            raw_consensus_id                            \\\n",
       "chain                                    IGH                       IGK   \n",
       "barcode                                                                  \n",
       "AAACCTGAGAATAGGG-1   clonotype18_consensus_2                       NaN   \n",
       "AAACCTGAGCCCTAAT-1  clonotype187_consensus_5  clonotype187_consensus_2   \n",
       "AAACCTGAGCTGTTCA-1   clonotype53_consensus_2                       NaN   \n",
       "AAACCTGAGTAGTGCG-1  clonotype134_consensus_2  clonotype134_consensus_1   \n",
       "AAACCTGAGTGGGCTA-1    clonotype1_consensus_1                       NaN   \n",
       "\n",
       "                                             cdr3_length              \n",
       "chain                                    IGL         IGH   IGK   IGL  \n",
       "barcode                                                               \n",
       "AAACCTGAGAATAGGG-1   clonotype18_consensus_1        18.0   NaN  12.0  \n",
       "AAACCTGAGCCCTAAT-1  clonotype187_consensus_3        18.0  10.0  12.0  \n",
       "AAACCTGAGCTGTTCA-1   clonotype53_consensus_1        16.0   NaN  10.0  \n",
       "AAACCTGAGTAGTGCG-1                       NaN        15.0  10.0   NaN  \n",
       "AAACCTGAGTGGGCTA-1    clonotype1_consensus_2        18.0   NaN  12.0  \n",
       "\n",
       "[5 rows x 51 columns]"
      ]
     },
     "execution_count": 25,
     "metadata": {},
     "output_type": "execute_result"
    }
   ],
   "source": [
    "#to unstack, so all chains on same barcode#\n",
    "df_bybarcode = df_MultiI.unstack(level='chain')\n",
    "df_bybarcode.head()"
   ]
  },
  {
   "cell_type": "code",
   "execution_count": 26,
   "metadata": {},
   "outputs": [
    {
     "data": {
      "text/plain": [
       "MultiIndex(levels=[['is_cell', 'contig_id', 'high_confidence', 'length', 'v_gene', 'd_gene', 'j_gene', 'c_gene', 'full_length', 'productive', 'cdr3', 'cdr3_nt', 'reads', 'umis', 'raw_clonotype_id', 'raw_consensus_id', 'cdr3_length'], ['IGH', 'IGK', 'IGL']],\n",
       "           codes=[[0, 0, 0, 1, 1, 1, 2, 2, 2, 3, 3, 3, 4, 4, 4, 5, 5, 5, 6, 6, 6, 7, 7, 7, 8, 8, 8, 9, 9, 9, 10, 10, 10, 11, 11, 11, 12, 12, 12, 13, 13, 13, 14, 14, 14, 15, 15, 15, 16, 16, 16], [0, 1, 2, 0, 1, 2, 0, 1, 2, 0, 1, 2, 0, 1, 2, 0, 1, 2, 0, 1, 2, 0, 1, 2, 0, 1, 2, 0, 1, 2, 0, 1, 2, 0, 1, 2, 0, 1, 2, 0, 1, 2, 0, 1, 2, 0, 1, 2, 0, 1, 2]],\n",
       "           names=[None, 'chain'])"
      ]
     },
     "execution_count": 26,
     "metadata": {},
     "output_type": "execute_result"
    }
   ],
   "source": [
    "df_bybarcode.columns"
   ]
  },
  {
   "cell_type": "code",
   "execution_count": 27,
   "metadata": {},
   "outputs": [
    {
     "data": {
      "text/plain": [
       "MultiIndex(levels=[['IGH', 'IGK', 'IGL'], ['c_gene', 'cdr3', 'cdr3_length', 'cdr3_nt', 'contig_id', 'd_gene', 'full_length', 'high_confidence', 'is_cell', 'j_gene', 'length', 'productive', 'raw_clonotype_id', 'raw_consensus_id', 'reads', 'umis', 'v_gene']],\n",
       "           codes=[[0, 0, 0, 0, 0, 0, 0, 0, 0, 0, 0, 0, 0, 0, 0, 0, 0, 1, 1, 1, 1, 1, 1, 1, 1, 1, 1, 1, 1, 1, 1, 1, 1, 1, 2, 2, 2, 2, 2, 2, 2, 2, 2, 2, 2, 2, 2, 2, 2, 2, 2], [0, 1, 2, 3, 4, 5, 6, 7, 8, 9, 10, 11, 12, 13, 14, 15, 16, 0, 1, 2, 3, 4, 5, 6, 7, 8, 9, 10, 11, 12, 13, 14, 15, 16, 0, 1, 2, 3, 4, 5, 6, 7, 8, 9, 10, 11, 12, 13, 14, 15, 16]],\n",
       "           names=['chain', None])"
      ]
     },
     "execution_count": 27,
     "metadata": {},
     "output_type": "execute_result"
    }
   ],
   "source": [
    "#to swap and sort column levels#\n",
    "df_unstack = df_MultiI.unstack(level='chain')\n",
    "df_swap = df_unstack.swaplevel(axis=1)\n",
    "df_sw_sort = df_swap.sort_index(axis=1, level=0)\n",
    "df_sw_sort.columns"
   ]
  },
  {
   "cell_type": "code",
   "execution_count": 28,
   "metadata": {},
   "outputs": [
    {
     "name": "stdout",
     "output_type": "stream",
     "text": [
      "<class 'pandas.core.frame.DataFrame'>\n",
      "Index: 2981 entries, GTGCAGCGTAAGGATT-1 to TTTGTCAAGAGGGCTT-1\n",
      "Data columns (total 25 columns):\n",
      "(v_gene, IGH)              2981 non-null object\n",
      "(v_gene, IGK)              1432 non-null object\n",
      "(v_gene, IGL)              1660 non-null object\n",
      "(d_gene, IGH)              2967 non-null object\n",
      "(j_gene, IGH)              2972 non-null object\n",
      "(j_gene, IGK)              1432 non-null object\n",
      "(j_gene, IGL)              1660 non-null object\n",
      "(c_gene, IGH)              2981 non-null object\n",
      "(c_gene, IGK)              1431 non-null object\n",
      "(c_gene, IGL)              1660 non-null object\n",
      "(cdr3, IGH)                2981 non-null object\n",
      "(cdr3, IGK)                1432 non-null object\n",
      "(cdr3, IGL)                1660 non-null object\n",
      "(cdr3_nt, IGH)             2981 non-null object\n",
      "(cdr3_nt, IGK)             1432 non-null object\n",
      "(cdr3_nt, IGL)             1660 non-null object\n",
      "(umis, IGH)                2981 non-null float64\n",
      "(umis, IGK)                1432 non-null float64\n",
      "(umis, IGL)                1660 non-null float64\n",
      "(raw_clonotype_id, IGH)    2981 non-null object\n",
      "(raw_clonotype_id, IGK)    1432 non-null object\n",
      "(raw_clonotype_id, IGL)    1660 non-null object\n",
      "(cdr3_length, IGH)         2981 non-null float64\n",
      "(cdr3_length, IGK)         1432 non-null float64\n",
      "(cdr3_length, IGL)         1660 non-null float64\n",
      "dtypes: float64(6), object(19)\n",
      "memory usage: 605.5+ KB\n"
     ]
    }
   ],
   "source": [
    "#to slice on columns want, remove empty columns, and sort by clonotype#\n",
    "df_smaller = df_bybarcode.loc[:, ['v_gene', 'd_gene', 'j_gene', 'c_gene', 'cdr3', 'cdr3_nt', 'umis', 'raw_clonotype_id', 'cdr3_length']]\n",
    "df_sorted = df_smaller.sort_values(by=[('raw_clonotype_id','IGH')])\n",
    "df_sm = df_sorted.dropna(axis=1, how='all')\n",
    "df_sm.info()"
   ]
  },
  {
   "cell_type": "code",
   "execution_count": 29,
   "metadata": {},
   "outputs": [],
   "source": [
    "#export csv file with filtered and sorted values#\n",
    "df_sm.to_csv(r'/Users/andrewssf/Documents/VDJ_Analysis/results/S10_data_' + timestamp + '.csv')"
   ]
  },
  {
   "cell_type": "code",
   "execution_count": null,
   "metadata": {},
   "outputs": [],
   "source": []
  },
  {
   "cell_type": "code",
   "execution_count": null,
   "metadata": {},
   "outputs": [],
   "source": []
  },
  {
   "cell_type": "code",
   "execution_count": null,
   "metadata": {},
   "outputs": [],
   "source": []
  }
 ],
 "metadata": {
  "kernelspec": {
   "display_name": "Python 3",
   "language": "python",
   "name": "python3"
  },
  "language_info": {
   "codemirror_mode": {
    "name": "ipython",
    "version": 3
   },
   "file_extension": ".py",
   "mimetype": "text/x-python",
   "name": "python",
   "nbconvert_exporter": "python",
   "pygments_lexer": "ipython3",
   "version": "3.7.3"
  }
 },
 "nbformat": 4,
 "nbformat_minor": 4
}
