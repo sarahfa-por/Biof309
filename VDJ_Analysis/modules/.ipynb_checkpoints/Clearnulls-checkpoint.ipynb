{
 "cells": [
  {
   "cell_type": "code",
   "execution_count": null,
   "metadata": {},
   "outputs": [],
   "source": [
    "def clearnulls(dataframe, col):\n",
    "    \"\"\"first creates series of boolians indicating if rows in indicated column are null then drops from dataframe rows where \n",
    "    null is true in that column\"\"\"\n",
    "    col_null = dataframe[col].isnull()\n",
    "    return dataframe.drop(dataframe[col_null].index)"
   ]
  }
 ],
 "metadata": {
  "kernelspec": {
   "display_name": "Python 3",
   "language": "python",
   "name": "python3"
  },
  "language_info": {
   "codemirror_mode": {
    "name": "ipython",
    "version": 3
   },
   "file_extension": ".py",
   "mimetype": "text/x-python",
   "name": "python",
   "nbconvert_exporter": "python",
   "pygments_lexer": "ipython3",
   "version": "3.7.3"
  }
 },
 "nbformat": 4,
 "nbformat_minor": 4
}
