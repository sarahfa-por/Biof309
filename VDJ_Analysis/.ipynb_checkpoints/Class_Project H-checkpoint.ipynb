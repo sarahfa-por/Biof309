{
 "cells": [
  {
   "cell_type": "code",
   "execution_count": 1,
   "metadata": {},
   "outputs": [],
   "source": [
    "import pandas as pd\n",
    "import numpy as np\n",
    "df = pd.read_csv(r'/Users/andrewssf/Documents/VDJ_Analysis/S10_filtered_contig_annotations.csv')"
   ]
  },
  {
   "cell_type": "code",
   "execution_count": 2,
   "metadata": {},
   "outputs": [
    {
     "name": "stdout",
     "output_type": "stream",
     "text": [
      "<class 'pandas.core.frame.DataFrame'>\n",
      "RangeIndex: 8220 entries, 0 to 8219\n",
      "Data columns (total 18 columns):\n",
      "barcode             8220 non-null object\n",
      "is_cell             8220 non-null bool\n",
      "contig_id           8220 non-null object\n",
      "high_confidence     8220 non-null bool\n",
      "length              8220 non-null int64\n",
      "chain               8220 non-null object\n",
      "v_gene              8220 non-null object\n",
      "d_gene              8220 non-null object\n",
      "j_gene              8220 non-null object\n",
      "c_gene              8220 non-null object\n",
      "full_length         8220 non-null bool\n",
      "productive          8220 non-null object\n",
      "cdr3                8220 non-null object\n",
      "cdr3_nt             8220 non-null object\n",
      "reads               8220 non-null int64\n",
      "umis                8220 non-null int64\n",
      "raw_clonotype_id    8220 non-null object\n",
      "raw_consensus_id    8220 non-null object\n",
      "dtypes: bool(3), int64(3), object(12)\n",
      "memory usage: 987.4+ KB\n"
     ]
    }
   ],
   "source": [
    "# basic info#\n",
    "df.info()"
   ]
  },
  {
   "cell_type": "code",
   "execution_count": 3,
   "metadata": {},
   "outputs": [
    {
     "data": {
      "text/plain": [
       "barcode                0\n",
       "is_cell                0\n",
       "contig_id              0\n",
       "high_confidence        0\n",
       "length                 0\n",
       "chain                  6\n",
       "v_gene              1470\n",
       "d_gene              5051\n",
       "j_gene              1016\n",
       "c_gene                26\n",
       "full_length            0\n",
       "productive          1886\n",
       "cdr3                1826\n",
       "cdr3_nt             1826\n",
       "reads                  0\n",
       "umis                   0\n",
       "raw_clonotype_id       2\n",
       "raw_consensus_id    1906\n",
       "dtype: int64"
      ]
     },
     "execution_count": 3,
     "metadata": {},
     "output_type": "execute_result"
    }
   ],
   "source": [
    "#change none to nan and check how many null bojects and where#\n",
    "df.replace('None', np.nan, inplace=True)\n",
    "#to count number of NaN in columns#\n",
    "len(df) - df.count()"
   ]
  },
  {
   "cell_type": "code",
   "execution_count": 4,
   "metadata": {},
   "outputs": [
    {
     "data": {
      "text/plain": [
       "(6394, 18)"
      ]
     },
     "execution_count": 4,
     "metadata": {},
     "output_type": "execute_result"
    }
   ],
   "source": [
    "#to drop all with null CDR3 and check#\n",
    "df.drop(df[(df.cdr3.isnull())].index, inplace=True)\n",
    "df.shape"
   ]
  },
  {
   "cell_type": "code",
   "execution_count": 5,
   "metadata": {},
   "outputs": [
    {
     "data": {
      "text/plain": [
       "barcode                0\n",
       "is_cell                0\n",
       "contig_id              0\n",
       "high_confidence        0\n",
       "length                 0\n",
       "chain                  0\n",
       "v_gene                 0\n",
       "d_gene              3293\n",
       "j_gene                 9\n",
       "c_gene                 1\n",
       "full_length            0\n",
       "productive            60\n",
       "cdr3                   0\n",
       "cdr3_nt                0\n",
       "reads                  0\n",
       "umis                   0\n",
       "raw_clonotype_id       1\n",
       "raw_consensus_id      80\n",
       "dtype: int64"
      ]
     },
     "execution_count": 5,
     "metadata": {},
     "output_type": "execute_result"
    }
   ],
   "source": [
    "len(df) - df.count()"
   ]
  },
  {
   "cell_type": "code",
   "execution_count": 6,
   "metadata": {},
   "outputs": [
    {
     "ename": "SyntaxError",
     "evalue": "invalid syntax (<ipython-input-6-4850ef7ce9f3>, line 2)",
     "output_type": "error",
     "traceback": [
      "\u001b[0;36m  File \u001b[0;32m\"<ipython-input-6-4850ef7ce9f3>\"\u001b[0;36m, line \u001b[0;32m2\u001b[0m\n\u001b[0;31m    df.drop(df[df.colname.isnull()]).index, inplace=True)\u001b[0m\n\u001b[0m                                                        ^\u001b[0m\n\u001b[0;31mSyntaxError\u001b[0m\u001b[0;31m:\u001b[0m invalid syntax\n"
     ]
    }
   ],
   "source": [
    "def clearnulls(colname):\n",
    "    df.drop(df[df.colname.isnull()]).index, inplace=True)"
   ]
  },
  {
   "cell_type": "code",
   "execution_count": null,
   "metadata": {},
   "outputs": [],
   "source": [
    "#to drop cells with unproductive chains#\n",
    "productive = df[df['productive'] == 'FALSE'].index\n",
    "df.drop(productive, inplace=True)\n",
    "df.shape"
   ]
  },
  {
   "cell_type": "code",
   "execution_count": null,
   "metadata": {},
   "outputs": [],
   "source": [
    "#to drop cells with duplicate chains#\n",
    "df_no_dupl = df.drop_duplicates(['barcode', 'chain'])\n",
    "df_no_dupl.shape"
   ]
  },
  {
   "cell_type": "code",
   "execution_count": null,
   "metadata": {},
   "outputs": [],
   "source": [
    "#check which chains are listed#\n",
    "df_no_dupl.chain.value_counts()"
   ]
  },
  {
   "cell_type": "code",
   "execution_count": null,
   "metadata": {},
   "outputs": [],
   "source": [
    "#limit list to only IGH, IGK, IGL#\n",
    "good_list = ['IGH', 'IGK', 'IGL']\n",
    "df_good = df_no_dupl[df_no_dupl['chain'].isin(good_list)].copy()\n",
    "df_good.chain.value_counts()"
   ]
  },
  {
   "cell_type": "code",
   "execution_count": null,
   "metadata": {},
   "outputs": [],
   "source": [
    "#make sure only have cells with HC listed#\n",
    "df_wHC = df_good.groupby('barcode').filter(lambda x: any(x.chain == \"IGH\")).copy()\n",
    "df_wHC.chain.value_counts()"
   ]
  },
  {
   "cell_type": "code",
   "execution_count": null,
   "metadata": {},
   "outputs": [],
   "source": [
    "import matplotlib.pyplot as plt\n",
    "df_wHC['umis'].plot('hist', bins=20, range=(1,10000))"
   ]
  },
  {
   "cell_type": "code",
   "execution_count": null,
   "metadata": {},
   "outputs": [],
   "source": [
    "#visiually inspect sequence length to check quality#\n",
    "df_wHC.boxplot(column='length', by='chain')"
   ]
  },
  {
   "cell_type": "code",
   "execution_count": null,
   "metadata": {},
   "outputs": [],
   "source": [
    "# to add column with CDR3 length#\n",
    "df_wHC['cdr3_length'] = df_wHC['cdr3'].str.len()\n",
    "df_wHC.info()"
   ]
  },
  {
   "cell_type": "code",
   "execution_count": null,
   "metadata": {},
   "outputs": [],
   "source": [
    "#to filter on pairs#\n",
    "df_pair = df_wHC.groupby('barcode').filter(lambda x: x['chain'].count()<3)\n",
    "df_pair.chain.value_counts()"
   ]
  },
  {
   "cell_type": "code",
   "execution_count": null,
   "metadata": {},
   "outputs": [],
   "source": [
    "#to count v_gene d_gene j_gene c_gene usage concat into one file for output#\n",
    "df_vgene = df_pair.groupby('chain')['v_gene'].value_counts()\n",
    "df_dgene = df_pair.groupby('chain')['d_gene'].value_counts()\n",
    "df_jgene = df_pair.groupby('chain')['j_gene'].value_counts()\n",
    "df_cgene = df_pair.groupby('chain')['c_gene'].value_counts()\n",
    "df_gene = pd.concat([df_vgene, df_dgene, df_jgene, df_cgene], axis=0)\n",
    "df_gene"
   ]
  },
  {
   "cell_type": "code",
   "execution_count": null,
   "metadata": {},
   "outputs": [],
   "source": [
    "#visual of vgene usage#\n",
    "f, a = plt.subplots(3,1)\n",
    "df_vgene.xs('IGH').plot(kind='bar', ax=a[0])\n",
    "df_vgene.xs('IGK').plot(kind='bar', ax=a[1])\n",
    "df_vgene.xs('IGL').plot(kind='bar', ax=a[2])\n",
    "plt.tight_layout(rect=[0,0,1.5,2])\n",
    "f.savefig(r'/Users/andrewssf/Documents/VDJ_Analysis/S10_dgene.pdf')"
   ]
  },
  {
   "cell_type": "code",
   "execution_count": null,
   "metadata": {},
   "outputs": [],
   "source": [
    "#figure out number of unique hc/lc pairs#\n",
    "df_pair['#pair'] = df_pair.groupby('chain', '')"
   ]
  },
  {
   "cell_type": "code",
   "execution_count": null,
   "metadata": {},
   "outputs": [],
   "source": [
    "#to export out gene usage#\n",
    "import time\n",
    "t = time.localtime()\n",
    "timestamp = time.strftime('%m%d_%H%M', t)\n",
    "df_gene.to_csv(r'/Users/andrewssf/Documents/VDJ_Analysis/S10_genes_' + timestamp + '.csv', header = ('count'))"
   ]
  },
  {
   "cell_type": "code",
   "execution_count": null,
   "metadata": {},
   "outputs": [],
   "source": [
    "# to make multi-idexes#\n",
    "df_MultiI = df_wHC.set_index(['barcode', 'chain']).sort_index()\n",
    "df_MultiI.head()"
   ]
  },
  {
   "cell_type": "code",
   "execution_count": null,
   "metadata": {},
   "outputs": [],
   "source": [
    "#to unstack, so all chains on same barcode#\n",
    "df_bybarcode = df_MultiI.unstack(level='chain')\n",
    "df_bybarcode.head()"
   ]
  },
  {
   "cell_type": "code",
   "execution_count": null,
   "metadata": {},
   "outputs": [],
   "source": [
    "df_bybarcode.columns"
   ]
  },
  {
   "cell_type": "code",
   "execution_count": null,
   "metadata": {},
   "outputs": [],
   "source": [
    "#to swap and sort column levels#\n",
    "df_unstack = df_MultiI.unstack(level='chain')\n",
    "df_swap = df_unstack.swaplevel(axis=1)\n",
    "df_sw_sort = df_swap.sort_index(axis=1, level=0)\n",
    "df_sw_sort.columns"
   ]
  },
  {
   "cell_type": "code",
   "execution_count": null,
   "metadata": {},
   "outputs": [],
   "source": [
    "#to slice on columns want, remove empty columns, and sort by clonotype#\n",
    "df_smaller = df_bybarcode.loc[:, ['v_gene', 'd_gene', 'j_gene', 'c_gene', 'cdr3', 'cdr3_nt', 'umis', 'raw_clonotype_id', 'cdr3_length']]\n",
    "df_sorted = df_smaller.sort_values(by=[('raw_clonotype_id','IGH')])\n",
    "df_sm = df_sorted.dropna(axis=1, how='all')\n",
    "df_sm.info()"
   ]
  },
  {
   "cell_type": "code",
   "execution_count": null,
   "metadata": {},
   "outputs": [],
   "source": [
    "#export csv file with filtered and sorted values#\n",
    "df_sorted.to_csv(r'/Users/andrewssf/Documents/VDJ_Analysis/S10_data_' + timestamp + '.csv')"
   ]
  },
  {
   "cell_type": "code",
   "execution_count": null,
   "metadata": {},
   "outputs": [],
   "source": []
  },
  {
   "cell_type": "code",
   "execution_count": null,
   "metadata": {},
   "outputs": [],
   "source": []
  },
  {
   "cell_type": "code",
   "execution_count": null,
   "metadata": {},
   "outputs": [],
   "source": []
  }
 ],
 "metadata": {
  "kernelspec": {
   "display_name": "Python 3",
   "language": "python",
   "name": "python3"
  },
  "language_info": {
   "codemirror_mode": {
    "name": "ipython",
    "version": 3
   },
   "file_extension": ".py",
   "mimetype": "text/x-python",
   "name": "python",
   "nbconvert_exporter": "python",
   "pygments_lexer": "ipython3",
   "version": "3.7.3"
  }
 },
 "nbformat": 4,
 "nbformat_minor": 4
}
