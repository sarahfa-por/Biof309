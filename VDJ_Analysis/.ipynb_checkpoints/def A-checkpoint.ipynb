{
 "cells": [
  {
   "cell_type": "code",
   "execution_count": 2,
   "metadata": {},
   "outputs": [],
   "source": [
    "import pandas as pd\n",
    "import numpy as np\n",
    "df = pd.read_csv(r'/Users/andrewssf/Documents/VDJ_Analysis/S10_filtered_contig_annotations.csv')"
   ]
  },
  {
   "cell_type": "code",
   "execution_count": 3,
   "metadata": {},
   "outputs": [
    {
     "name": "stdout",
     "output_type": "stream",
     "text": [
      "<class 'pandas.core.frame.DataFrame'>\n",
      "RangeIndex: 8220 entries, 0 to 8219\n",
      "Data columns (total 18 columns):\n",
      "barcode             8220 non-null object\n",
      "is_cell             8220 non-null bool\n",
      "contig_id           8220 non-null object\n",
      "high_confidence     8220 non-null bool\n",
      "length              8220 non-null int64\n",
      "chain               8220 non-null object\n",
      "v_gene              8220 non-null object\n",
      "d_gene              8220 non-null object\n",
      "j_gene              8220 non-null object\n",
      "c_gene              8220 non-null object\n",
      "full_length         8220 non-null bool\n",
      "productive          8220 non-null object\n",
      "cdr3                8220 non-null object\n",
      "cdr3_nt             8220 non-null object\n",
      "reads               8220 non-null int64\n",
      "umis                8220 non-null int64\n",
      "raw_clonotype_id    8220 non-null object\n",
      "raw_consensus_id    8220 non-null object\n",
      "dtypes: bool(3), int64(3), object(12)\n",
      "memory usage: 987.4+ KB\n"
     ]
    }
   ],
   "source": [
    "# basic info#\n",
    "df.info()"
   ]
  },
  {
   "cell_type": "code",
   "execution_count": 4,
   "metadata": {},
   "outputs": [
    {
     "data": {
      "text/plain": [
       "barcode                0\n",
       "is_cell                0\n",
       "contig_id              0\n",
       "high_confidence        0\n",
       "length                 0\n",
       "chain                  6\n",
       "v_gene              1470\n",
       "d_gene              5051\n",
       "j_gene              1016\n",
       "c_gene                26\n",
       "full_length            0\n",
       "productive          1886\n",
       "cdr3                1826\n",
       "cdr3_nt             1826\n",
       "reads                  0\n",
       "umis                   0\n",
       "raw_clonotype_id       2\n",
       "raw_consensus_id    1906\n",
       "dtype: int64"
      ]
     },
     "execution_count": 4,
     "metadata": {},
     "output_type": "execute_result"
    }
   ],
   "source": [
    "#change none to nan and check how many null bojects and where#\n",
    "df.replace('None', np.nan, inplace=True)\n",
    "#to count number of NaN in columns#\n",
    "len(df) - df.count()"
   ]
  },
  {
   "cell_type": "code",
   "execution_count": 5,
   "metadata": {},
   "outputs": [
    {
     "data": {
      "text/plain": [
       "(8220, 18)"
      ]
     },
     "execution_count": 5,
     "metadata": {},
     "output_type": "execute_result"
    }
   ],
   "source": [
    "df.shape"
   ]
  },
  {
   "cell_type": "code",
   "execution_count": 27,
   "metadata": {},
   "outputs": [],
   "source": [
    "def clearnulls(dataframe, col):\n",
    "    col_null = dataframe[col].isnull()\n",
    "    drop_nullcol = dataframe.drop(dataframe[col_null].index)\n",
    "    return drop_nullcol"
   ]
  },
  {
   "cell_type": "code",
   "execution_count": 30,
   "metadata": {},
   "outputs": [
    {
     "data": {
      "text/plain": [
       "barcode                0\n",
       "is_cell                0\n",
       "contig_id              0\n",
       "high_confidence        0\n",
       "length                 0\n",
       "chain                  0\n",
       "v_gene                 0\n",
       "d_gene              3293\n",
       "j_gene                 9\n",
       "c_gene                 1\n",
       "full_length            0\n",
       "productive            60\n",
       "cdr3                   0\n",
       "cdr3_nt                0\n",
       "reads                  0\n",
       "umis                   0\n",
       "raw_clonotype_id       1\n",
       "raw_consensus_id      80\n",
       "dtype: int64"
      ]
     },
     "execution_count": 30,
     "metadata": {},
     "output_type": "execute_result"
    }
   ],
   "source": [
    "df_cdr3null = clearnulls(df, 'cdr3')\n",
    "len(df_cdr3null) - df_cdr3null.count() "
   ]
  },
  {
   "cell_type": "code",
   "execution_count": null,
   "metadata": {},
   "outputs": [],
   "source": []
  }
 ],
 "metadata": {
  "kernelspec": {
   "display_name": "Python 3",
   "language": "python",
   "name": "python3"
  },
  "language_info": {
   "codemirror_mode": {
    "name": "ipython",
    "version": 3
   },
   "file_extension": ".py",
   "mimetype": "text/x-python",
   "name": "python",
   "nbconvert_exporter": "python",
   "pygments_lexer": "ipython3",
   "version": "3.7.3"
  }
 },
 "nbformat": 4,
 "nbformat_minor": 4
}
