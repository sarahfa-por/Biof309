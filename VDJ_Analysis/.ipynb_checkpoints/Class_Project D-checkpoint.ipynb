{
 "cells": [
  {
   "cell_type": "code",
   "execution_count": 1,
   "metadata": {},
   "outputs": [],
   "source": [
    "import pandas as pd\n",
    "import numpy as np\n",
    "df = pd.read_csv(r'/Users/andrewssf/Documents/VDJ_Analysis/S10_filtered_contig_annotations.csv')"
   ]
  },
  {
   "cell_type": "code",
   "execution_count": 2,
   "metadata": {},
   "outputs": [
    {
     "name": "stdout",
     "output_type": "stream",
     "text": [
      "<class 'pandas.core.frame.DataFrame'>\n",
      "RangeIndex: 8220 entries, 0 to 8219\n",
      "Data columns (total 18 columns):\n",
      "barcode             8220 non-null object\n",
      "is_cell             8220 non-null bool\n",
      "contig_id           8220 non-null object\n",
      "high_confidence     8220 non-null bool\n",
      "length              8220 non-null int64\n",
      "chain               8220 non-null object\n",
      "v_gene              8220 non-null object\n",
      "d_gene              8220 non-null object\n",
      "j_gene              8220 non-null object\n",
      "c_gene              8220 non-null object\n",
      "full_length         8220 non-null bool\n",
      "productive          8220 non-null object\n",
      "cdr3                8220 non-null object\n",
      "cdr3_nt             8220 non-null object\n",
      "reads               8220 non-null int64\n",
      "umis                8220 non-null int64\n",
      "raw_clonotype_id    8220 non-null object\n",
      "raw_consensus_id    8220 non-null object\n",
      "dtypes: bool(3), int64(3), object(12)\n",
      "memory usage: 987.4+ KB\n"
     ]
    }
   ],
   "source": [
    "# basic info#\n",
    "df.info()"
   ]
  },
  {
   "cell_type": "code",
   "execution_count": 3,
   "metadata": {},
   "outputs": [
    {
     "data": {
      "text/plain": [
       "barcode                0\n",
       "is_cell                0\n",
       "contig_id              0\n",
       "high_confidence        0\n",
       "length                 0\n",
       "chain                  6\n",
       "v_gene              1470\n",
       "d_gene              5051\n",
       "j_gene              1016\n",
       "c_gene                26\n",
       "full_length            0\n",
       "productive          1886\n",
       "cdr3                1826\n",
       "cdr3_nt             1826\n",
       "reads                  0\n",
       "umis                   0\n",
       "raw_clonotype_id       2\n",
       "raw_consensus_id    1906\n",
       "dtype: int64"
      ]
     },
     "execution_count": 3,
     "metadata": {},
     "output_type": "execute_result"
    }
   ],
   "source": [
    "#change none to nan and check how many null bojects and where#\n",
    "df.replace('None', np.nan, inplace=True)\n",
    "#to count number of NaN in columns#\n",
    "len(df) - df.count()"
   ]
  },
  {
   "cell_type": "code",
   "execution_count": 4,
   "metadata": {},
   "outputs": [
    {
     "data": {
      "text/plain": [
       "IGH      3212\n",
       "IGK      2528\n",
       "IGL      1891\n",
       "Multi     570\n",
       "TRA        12\n",
       "TRD         1\n",
       "Name: chain, dtype: int64"
      ]
     },
     "execution_count": 4,
     "metadata": {},
     "output_type": "execute_result"
    }
   ],
   "source": [
    "#to check chain values - only want IgH, IgK, IGL#\n",
    "df.chain.value_counts()"
   ]
  },
  {
   "cell_type": "code",
   "execution_count": 5,
   "metadata": {},
   "outputs": [
    {
     "name": "stdout",
     "output_type": "stream",
     "text": [
      "<class 'pandas.core.frame.DataFrame'>\n",
      "Int64Index: 7953 entries, 0 to 8219\n",
      "Data columns (total 18 columns):\n",
      "barcode             7953 non-null object\n",
      "is_cell             7953 non-null bool\n",
      "contig_id           7953 non-null object\n",
      "high_confidence     7953 non-null bool\n",
      "length              7953 non-null int64\n",
      "chain               7947 non-null object\n",
      "v_gene              6516 non-null object\n",
      "d_gene              3022 non-null object\n",
      "j_gene              6959 non-null object\n",
      "c_gene              7928 non-null object\n",
      "full_length         7953 non-null bool\n",
      "productive          6120 non-null object\n",
      "cdr3                6179 non-null object\n",
      "cdr3_nt             6179 non-null object\n",
      "reads               7953 non-null int64\n",
      "umis                7953 non-null int64\n",
      "raw_clonotype_id    7951 non-null object\n",
      "raw_consensus_id    6105 non-null object\n",
      "dtypes: bool(3), int64(3), object(12)\n",
      "memory usage: 1017.4+ KB\n"
     ]
    }
   ],
   "source": [
    "#to drop cells with duplicate chains#\n",
    "df_no_dupl = df.drop_duplicates(['barcode', 'chain'])\n",
    "df_no_dupl.info()"
   ]
  },
  {
   "cell_type": "code",
   "execution_count": 6,
   "metadata": {},
   "outputs": [
    {
     "data": {
      "text/plain": [
       "IGH      3056\n",
       "IGK      2491\n",
       "IGL      1820\n",
       "Multi     567\n",
       "TRA        12\n",
       "TRD         1\n",
       "Name: chain, dtype: int64"
      ]
     },
     "execution_count": 6,
     "metadata": {},
     "output_type": "execute_result"
    }
   ],
   "source": [
    "#check where cells have been dropped#\n",
    "df_no_dupl.chain.value_counts()"
   ]
  },
  {
   "cell_type": "code",
   "execution_count": 19,
   "metadata": {},
   "outputs": [
    {
     "data": {
      "text/plain": [
       "IGH    3056\n",
       "IGK    2491\n",
       "IGL    1820\n",
       "Name: chain, dtype: int64"
      ]
     },
     "execution_count": 19,
     "metadata": {},
     "output_type": "execute_result"
    }
   ],
   "source": [
    "#limit list to only IGH, IGK, IGL#\n",
    "good_list = ['IGH', 'IGK', 'IGL']\n",
    "df_good = df_no_dupl[df_no_dupl['chain'].isin(good_list)].copy()\n",
    "df_good.chain.value_counts()"
   ]
  },
  {
   "cell_type": "code",
   "execution_count": 20,
   "metadata": {},
   "outputs": [
    {
     "data": {
      "text/plain": [
       "IGH    3056\n",
       "IGK    2471\n",
       "IGL    1800\n",
       "Name: chain, dtype: int64"
      ]
     },
     "execution_count": 20,
     "metadata": {},
     "output_type": "execute_result"
    }
   ],
   "source": [
    "#make sure only have cells with HC listed#\n",
    "df_wHC = df_good.groupby('barcode').filter(lambda x: any(x.chain == \"IGH\"))\n",
    "df_wHC.chain.value_counts()"
   ]
  },
  {
   "cell_type": "code",
   "execution_count": 23,
   "metadata": {},
   "outputs": [
    {
     "data": {
      "text/plain": [
       "IGH    2967\n",
       "IGK    2471\n",
       "IGL    1800\n",
       "Name: chain, dtype: int64"
      ]
     },
     "execution_count": 23,
     "metadata": {},
     "output_type": "execute_result"
    }
   ],
   "source": [
    "df_wHC.drop(df_wHC[(df_wHC.chain == 'IGH') & (df_wHC.cdr3.isnull())].index, inplace=True)\n",
    "df_wHC.chain.value_counts()"
   ]
  },
  {
   "cell_type": "code",
   "execution_count": 25,
   "metadata": {},
   "outputs": [
    {
     "ename": "AttributeError",
     "evalue": "'Series' object has no attribute 'values_counts'",
     "output_type": "error",
     "traceback": [
      "\u001b[0;31m---------------------------------------------------------------------------\u001b[0m",
      "\u001b[0;31mAttributeError\u001b[0m                            Traceback (most recent call last)",
      "\u001b[0;32m<ipython-input-25-a4ea1da00027>\u001b[0m in \u001b[0;36m<module>\u001b[0;34m\u001b[0m\n\u001b[1;32m      1\u001b[0m \u001b[0mdf_gHC\u001b[0m \u001b[0;34m=\u001b[0m \u001b[0mdf_wHC\u001b[0m\u001b[0;34m.\u001b[0m\u001b[0mgroupby\u001b[0m\u001b[0;34m(\u001b[0m\u001b[0;34m'barcode'\u001b[0m\u001b[0;34m)\u001b[0m\u001b[0;34m.\u001b[0m\u001b[0mfilter\u001b[0m\u001b[0;34m(\u001b[0m\u001b[0;32mlambda\u001b[0m \u001b[0mx\u001b[0m\u001b[0;34m:\u001b[0m \u001b[0many\u001b[0m\u001b[0;34m(\u001b[0m\u001b[0mx\u001b[0m\u001b[0;34m.\u001b[0m\u001b[0mchain\u001b[0m \u001b[0;34m==\u001b[0m \u001b[0;34m\"IGH\"\u001b[0m\u001b[0;34m)\u001b[0m\u001b[0;34m)\u001b[0m\u001b[0;34m\u001b[0m\u001b[0;34m\u001b[0m\u001b[0m\n\u001b[0;32m----> 2\u001b[0;31m \u001b[0mdf_gHC\u001b[0m\u001b[0;34m.\u001b[0m\u001b[0mchain\u001b[0m\u001b[0;34m.\u001b[0m\u001b[0mvalues_counts\u001b[0m\u001b[0;34m(\u001b[0m\u001b[0;34m)\u001b[0m\u001b[0;34m\u001b[0m\u001b[0;34m\u001b[0m\u001b[0m\n\u001b[0m",
      "\u001b[0;32m~/anaconda3/lib/python3.7/site-packages/pandas/core/generic.py\u001b[0m in \u001b[0;36m__getattr__\u001b[0;34m(self, name)\u001b[0m\n\u001b[1;32m   5065\u001b[0m             \u001b[0;32mif\u001b[0m \u001b[0mself\u001b[0m\u001b[0;34m.\u001b[0m\u001b[0m_info_axis\u001b[0m\u001b[0;34m.\u001b[0m\u001b[0m_can_hold_identifiers_and_holds_name\u001b[0m\u001b[0;34m(\u001b[0m\u001b[0mname\u001b[0m\u001b[0;34m)\u001b[0m\u001b[0;34m:\u001b[0m\u001b[0;34m\u001b[0m\u001b[0;34m\u001b[0m\u001b[0m\n\u001b[1;32m   5066\u001b[0m                 \u001b[0;32mreturn\u001b[0m \u001b[0mself\u001b[0m\u001b[0;34m[\u001b[0m\u001b[0mname\u001b[0m\u001b[0;34m]\u001b[0m\u001b[0;34m\u001b[0m\u001b[0;34m\u001b[0m\u001b[0m\n\u001b[0;32m-> 5067\u001b[0;31m             \u001b[0;32mreturn\u001b[0m \u001b[0mobject\u001b[0m\u001b[0;34m.\u001b[0m\u001b[0m__getattribute__\u001b[0m\u001b[0;34m(\u001b[0m\u001b[0mself\u001b[0m\u001b[0;34m,\u001b[0m \u001b[0mname\u001b[0m\u001b[0;34m)\u001b[0m\u001b[0;34m\u001b[0m\u001b[0;34m\u001b[0m\u001b[0m\n\u001b[0m\u001b[1;32m   5068\u001b[0m \u001b[0;34m\u001b[0m\u001b[0m\n\u001b[1;32m   5069\u001b[0m     \u001b[0;32mdef\u001b[0m \u001b[0m__setattr__\u001b[0m\u001b[0;34m(\u001b[0m\u001b[0mself\u001b[0m\u001b[0;34m,\u001b[0m \u001b[0mname\u001b[0m\u001b[0;34m,\u001b[0m \u001b[0mvalue\u001b[0m\u001b[0;34m)\u001b[0m\u001b[0;34m:\u001b[0m\u001b[0;34m\u001b[0m\u001b[0;34m\u001b[0m\u001b[0m\n",
      "\u001b[0;31mAttributeError\u001b[0m: 'Series' object has no attribute 'values_counts'"
     ]
    }
   ],
   "source": [
    "df_gHC = df_wHC.groupby('barcode').filter(lambda x: any(x.chain == \"IGH\"))\n",
    "df_gHC.chain.values_counts()"
   ]
  },
  {
   "cell_type": "code",
   "execution_count": null,
   "metadata": {},
   "outputs": [],
   "source": []
  }
 ],
 "metadata": {
  "kernelspec": {
   "display_name": "Python 3",
   "language": "python",
   "name": "python3"
  },
  "language_info": {
   "codemirror_mode": {
    "name": "ipython",
    "version": 3
   },
   "file_extension": ".py",
   "mimetype": "text/x-python",
   "name": "python",
   "nbconvert_exporter": "python",
   "pygments_lexer": "ipython3",
   "version": "3.7.3"
  }
 },
 "nbformat": 4,
 "nbformat_minor": 4
}
